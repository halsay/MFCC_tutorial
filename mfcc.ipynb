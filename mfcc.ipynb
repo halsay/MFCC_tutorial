{
 "metadata": {
  "language_info": {
   "codemirror_mode": {
    "name": "ipython",
    "version": 3
   },
   "file_extension": ".py",
   "mimetype": "text/x-python",
   "name": "python",
   "nbconvert_exporter": "python",
   "pygments_lexer": "ipython3",
   "version": "3.6.2-final"
  },
  "orig_nbformat": 2,
  "kernelspec": {
   "name": "python3",
   "display_name": "Python 3"
  }
 },
 "nbformat": 4,
 "nbformat_minor": 2,
 "cells": [
  {
   "cell_type": "code",
   "execution_count": 20,
   "metadata": {},
   "outputs": [
    {
     "output_type": "execute_result",
     "data": {
      "text/plain": [
       "' Author: Halsay\\n    Reference: http://practicalcryptography.com/miscellaneous/machine-learning/guide-mel-frequency-cepstral-coefficients-mfccs/\\n    Date: 2020-11-25\\n    <MFCC Tutorial>\\n    We will give a high level intro to the implementation steps, then go in depth how to implement. \\n    Towards the end we will go into a more detailed description of how to calculate MFCCs:\\n\\n    1. Frame the signal into short frames.\\n    2. For each frame calculate the periodogram estimate of the power spectrum.\\n    3. Apply the mel filterbank to the power spectrum, sum the energy in each filter.\\n    4. Take the logarithm of all filterbank energies.\\n    5. Take the DCT of the log filterbank energies.\\n    6. Keep DCT coefficients 2-13, discard the rest.\\n'"
      ]
     },
     "metadata": {},
     "execution_count": 20
    }
   ],
   "source": [
    "\"\"\" Author: Halsay\n",
    "    Reference: http://practicalcryptography.com/miscellaneous/machine-learning/guide-mel-frequency-cepstral-coefficients-mfccs/\n",
    "    Date: 2020-11-25\n",
    "    <MFCC Tutorial>\n",
    "    We will give a high level intro to the implementation steps, then go in depth how to implement. \n",
    "    Towards the end we will go into a more detailed description of how to calculate MFCCs:\n",
    "\n",
    "    1. Frame the signal into short frames.\n",
    "    2. For each frame calculate the periodogram estimate of the power spectrum.\n",
    "    3. Apply the mel filterbank to the power spectrum, sum the energy in each filter.\n",
    "    4. Take the logarithm of all filterbank energies.\n",
    "    5. Take the DCT of the log filterbank energies.\n",
    "    6. Keep DCT coefficients 2-13, discard the rest.\n",
    "\"\"\""
   ]
  },
  {
   "cell_type": "code",
   "execution_count": 21,
   "metadata": {},
   "outputs": [
    {
     "output_type": "stream",
     "name": "stdout",
     "text": [
      "8000 (14476,)\n"
     ]
    }
   ],
   "source": [
    "# 1. Frame the signal into short frames.\n",
    "import numpy as np\n",
    "from scipy.io import wavfile\n",
    "\n",
    "fs, wavdata = wavfile.read(\"./wave/test.wav\") # read a wav file into numpy array\n",
    "print(fs,wavdata.shape) # print frequency and sample count (sample count = frequency * wav length)"
   ]
  },
  {
   "cell_type": "code",
   "execution_count": 22,
   "metadata": {},
   "outputs": [],
   "source": [
    "frame_len = 25 # each frame length (ms)\n",
    "frame_shift = 10 # frame shift length (ms)\n",
    "frame_len_samples = frame_len*fs//1000 # each frame length (samples)\n",
    "frame_shift_samples = frame_shift*fs//1000 # frame shifte length (samples)\n",
    "total_frames = int(np.ceil((len(wavdata) - frame_len_samples)/float(frame_shift_samples)) + 1) # total frames will get\n",
    "padding_length = int((total_frames-1)*frame_shift_samples + frame_len_samples - len(wavdata)) # how many samples last frame need to pad\n",
    "\n",
    "pad_data = np.pad(wavdata,(0,padding_length),mode='constant') # pad last frame with zeros"
   ]
  },
  {
   "cell_type": "code",
   "execution_count": 23,
   "metadata": {},
   "outputs": [],
   "source": [
    "\"\"\" when we frame the signal, usually we do Pre-emphasis first to amplify high frequency signals.\n",
    "    Pre-emphasis function:\n",
    "        y(n) = x(x)-a*x(x-1)  \n",
    "    The reason why we do Pre-emphasis please watch reference: https://zhuanlan.zhihu.com/p/34798429\n",
    "    Also, we often add a window function to the frame to reduce signal discontinuity at the beginning and end of the frame.\n",
    "    There are many window functions, we use hamming window here as an example.\n",
    "\"\"\"\n",
    "frame_data = np.zeros((total_frames,frame_len_samples)) # where we save the frame results\n",
    "pre_emphasis_coeff = 0.97 # Pre-emphasis coefficient\n",
    "window_func = np.hamming(frame_len_samples) # hamming window\n",
    "pad_data = np.append(pad_data[0],pad_data[1:]-pre_emphasis_coeff*pad_data[:-1]) # Pre-emphasis\n",
    "\n",
    "for i in range(total_frames):\n",
    "    single_frame = pad_data[i*frame_shift_samples:i*frame_shift_samples+frame_len_samples] # original frame data\n",
    "    single_frame = single_frame * window_func # add window function\n",
    "    frame_data[i,:] = single_frame"
   ]
  },
  {
   "cell_type": "code",
   "execution_count": 24,
   "metadata": {},
   "outputs": [
    {
     "output_type": "execute_result",
     "data": {
      "text/plain": [
       "<IPython.core.display.Image object>"
      ],
      "image/png": "[encoded data removed]"
     },
     "metadata": {},
     "execution_count": 24
    }
   ],
   "source": [
    "\"\"\" 2. For each frame calculate the periodogram estimate of the power spectrum.\n",
    "    To transform the frame data from time-domain to frequency-domain we take the Discrete Fourier Transform (DFT) of the frame, \n",
    "    by perform the following function:\n",
    "\"\"\"\n",
    "from IPython.display import Image\n",
    "Image(\"./img/DFT.png\")"
   ]
  },
  {
   "cell_type": "code",
   "execution_count": 25,
   "metadata": {},
   "outputs": [
    {
     "output_type": "execute_result",
     "data": {
      "text/plain": [
       "<IPython.core.display.Image object>"
      ],
      "image/png": "[encoded data removed]"
     },
     "metadata": {},
     "execution_count": 25
    }
   ],
   "source": [
    "\"\"\" where si(n) is the frame data and h(n) is the window function, K is the length of DFT (usually 256 or 512).\n",
    "    The periodogram-based power spectral estimate for the speech frame si(n) is given by:\n",
    "\"\"\"\n",
    "Image(\"./img/power.png\")"
   ]
  },
  {
   "cell_type": "code",
   "execution_count": 26,
   "metadata": {},
   "outputs": [],
   "source": [
    "K = 512 # length of DFT\n",
    "freq_domain_data = np.fft.rfft(frame_data,K) # DFT\n",
    "power_spec = np.absolute(freq_domain_data) ** 2 * (1/K) # power spectrum"
   ]
  },
  {
   "cell_type": "code",
   "execution_count": 27,
   "metadata": {},
   "outputs": [],
   "source": [
    "\"\"\" 3. Apply the mel filterbank to the power spectrum, sum the energy in each filter.\n",
    "    The Mel scale relates perceived frequency, or pitch, of a pure tone to its actual measured frequency. \n",
    "    Humans are much better at discerning small changes in pitch at low frequencies than they are at high frequencies. \n",
    "    Incorporating this scale makes our features match more closely what humans hear.\n",
    "    The formula for converting from frequency to Mel scale is:\n",
    "        M(f) = 2595*log10(1+f/700)\n",
    "    And formula for converting from Mel scale to frequency is:\n",
    "        F(m) = 700*(10**(m/2595)-1)\n",
    "\"\"\"\n",
    "low_frequency = 20 # We don't use start from 0 Hz because human ear is not able to perceive low frequency signal.\n",
    "high_frequency = fs//2 # if the speech is sampled at f Hz then our upper frequency is limited to 2/f Hz.\n",
    "low_frequency_mel = 2595 * np.log10(1 + low_frequency / 700)\n",
    "high_frequency_mel = 2595 * np.log10(1 + high_frequency / 700)\n",
    "n_filt = 40 # number of mel-filters (usually between 22-40)\n",
    "mel_points = np.linspace(low_frequency_mel, high_frequency_mel, n_filt + 2) # Make the Mel scale spacing equal.\n",
    "hz_points = (700 * (10**(mel_points / 2595) - 1)) # convert back to Hz scale.\n",
    "bins = np.floor((K + 1) * hz_points / fs) # round those frequencies to the nearest FFT bin."
   ]
  },
  {
   "cell_type": "code",
   "execution_count": 28,
   "metadata": {},
   "outputs": [
    {
     "output_type": "execute_result",
     "data": {
      "text/plain": [
       "<IPython.core.display.Image object>"
      ],
      "image/png": "[encoded data removed]"
     },
     "metadata": {},
     "execution_count": 28
    }
   ],
   "source": [
    "\"\"\"Now we create our filterbanks. \n",
    "    The first filterbank will start at the first point, reach its peak at the second point, then return to zero at the 3rd point. \n",
    "    The second filterbank will start at the 2nd point, reach its max at the 3rd, then be zero at the 4th etc. \n",
    "    A formula for calculating these is as follows:\n",
    "\"\"\"\n",
    "Image(\"./img/fbank.png\")"
   ]
  },
  {
   "cell_type": "code",
   "execution_count": 29,
   "metadata": {},
   "outputs": [
    {
     "output_type": "execute_result",
     "data": {
      "text/plain": [
       "<IPython.core.display.Image object>"
      ],
      "image/png": "[encoded data removed]"
     },
     "metadata": {},
     "execution_count": 29
    }
   ],
   "source": [
    "\"\"\"The filterbanks are triangle filters, they should look like above figure:\n",
    "\"\"\"\n",
    "Image(\"./img/mel_tri.png\")"
   ]
  },
  {
   "cell_type": "code",
   "execution_count": 30,
   "metadata": {},
   "outputs": [],
   "source": [
    "fbank = np.zeros((n_filt, int(np.floor(K / 2 + 1))))\n",
    "for m in range(1, n_filt + 1):\n",
    "    f_m_minus = int(bins[m - 1])   # left point\n",
    "    f_m = int(bins[m])             # peak point\n",
    "    f_m_plus = int(bins[m + 1])    # right point\n",
    "\n",
    "    for k in range(f_m_minus, f_m):\n",
    "        fbank[m - 1, k] = (k - bins[m - 1]) / (bins[m] - bins[m - 1])\n",
    "    for k in range(f_m, f_m_plus):\n",
    "        fbank[m - 1, k] = (bins[m + 1] - k) / (bins[m + 1] - bins[m])\n",
    "filter_bank = np.matmul(power_spec,fbank.T) # This is known as fbank feature.\n",
    "filter_bank = np.where(filter_bank == 0,np.finfo(float).eps,filter_bank) # Repalce 0 to a small constant or it will cause problem to log."
   ]
  },
  {
   "cell_type": "code",
   "execution_count": 31,
   "metadata": {},
   "outputs": [],
   "source": [
    "\"\"\"4. Take the logarithm of all filterbank energies.\n",
    "\"\"\"\n",
    "log_fbank = np.log(filter_bank) # We can also use log_fbank = 20*np.log10(filter_bank) to get dB energies."
   ]
  },
  {
   "cell_type": "code",
   "execution_count": 32,
   "metadata": {},
   "outputs": [],
   "source": [
    "\"\"\" 5. Take the DCT of the log filterbank energies.\n",
    "    6. Keep DCT coefficients 2-13, discard the rest.\n",
    "\"\"\"\n",
    "from scipy.fftpack import dct\n",
    "num_ceps = 12 # MFCC feature dims, usually between 2-13.\n",
    "# feature from other dims are dropped beacuse they represent rapid changes in filter bank coefficients and they are not helpful for speech models.\n",
    "mfcc = dct(log_fbank, type=2, axis=1, norm=\"ortho\")[:, 1 : (num_ceps + 1)] "
   ]
  },
  {
   "cell_type": "code",
   "execution_count": null,
   "metadata": {},
   "outputs": [],
   "source": []
  }
 ]
}